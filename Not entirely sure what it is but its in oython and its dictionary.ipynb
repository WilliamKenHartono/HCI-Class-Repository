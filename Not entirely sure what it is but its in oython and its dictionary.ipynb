{
 "cells": [
  {
   "cell_type": "code",
   "execution_count": 19,
   "metadata": {},
   "outputs": [
    {
     "name": "stdout",
     "output_type": "stream",
     "text": [
      "10.392304845413264\n",
      "10.392\n"
     ]
    }
   ],
   "source": [
    "import math\n",
    "\n",
    "#Return the value of 9 raised to the power of 3\n",
    "# print(math.pow(9, 3)) \n",
    "s=int(input(\"Enter a positive number: \"))\n",
    "def compHexArea(s):\n",
    "    hexArea = float((3*math.sqrt(3)/2)*math.pow(s,2))\n",
    "    return hexArea\n",
    "print(compHexArea(s))\n",
    "rounded = round(compHexArea(s),3)\n",
    "print(rounded)\n"
   ]
  },
  {
   "cell_type": "code",
   "execution_count": 32,
   "metadata": {},
   "outputs": [
    {
     "ename": "UnboundLocalError",
     "evalue": "cannot access local variable 'i' where it is not associated with a value",
     "output_type": "error",
     "traceback": [
      "\u001b[1;31m---------------------------------------------------------------------------\u001b[0m",
      "\u001b[1;31mUnboundLocalError\u001b[0m                         Traceback (most recent call last)",
      "\u001b[1;32mUntitled-1.ipynb Cell 2\u001b[0m line \u001b[0;36m1\n\u001b[0;32m     <a href='vscode-notebook-cell:Untitled-1.ipynb?jupyter-notebook#W1sdW50aXRsZWQ%3D?line=9'>10</a>\u001b[0m     \u001b[39mreturn\u001b[39;00m words\n\u001b[0;32m     <a href='vscode-notebook-cell:Untitled-1.ipynb?jupyter-notebook#W1sdW50aXRsZWQ%3D?line=10'>11</a>\u001b[0m myStr\u001b[39m=\u001b[39m\u001b[39minput\u001b[39m(\u001b[39m\"\u001b[39m\u001b[39mEnter a Sentence:\u001b[39m\u001b[39m\"\u001b[39m)\n\u001b[1;32m---> <a href='vscode-notebook-cell:Untitled-1.ipynb?jupyter-notebook#W1sdW50aXRsZWQ%3D?line=11'>12</a>\u001b[0m wordCount \u001b[39m=\u001b[39m countWords(myStr)\n\u001b[0;32m     <a href='vscode-notebook-cell:Untitled-1.ipynb?jupyter-notebook#W1sdW50aXRsZWQ%3D?line=12'>13</a>\u001b[0m \u001b[39mprint\u001b[39m(wordCount)\n",
      "\u001b[1;32mUntitled-1.ipynb Cell 2\u001b[0m line \u001b[0;36m6\n\u001b[0;32m      <a href='vscode-notebook-cell:Untitled-1.ipynb?jupyter-notebook#W1sdW50aXRsZWQ%3D?line=3'>4</a>\u001b[0m \u001b[39mdef\u001b[39;00m \u001b[39mcountWords\u001b[39m(myStr):\n\u001b[0;32m      <a href='vscode-notebook-cell:Untitled-1.ipynb?jupyter-notebook#W1sdW50aXRsZWQ%3D?line=4'>5</a>\u001b[0m     myDict \u001b[39m=\u001b[39m \u001b[39mlist\u001b[39m(myStr)\n\u001b[1;32m----> <a href='vscode-notebook-cell:Untitled-1.ipynb?jupyter-notebook#W1sdW50aXRsZWQ%3D?line=5'>6</a>\u001b[0m     words \u001b[39m=\u001b[39m {i:myDict\u001b[39m.\u001b[39mcount(i)}\n\u001b[0;32m      <a href='vscode-notebook-cell:Untitled-1.ipynb?jupyter-notebook#W1sdW50aXRsZWQ%3D?line=6'>7</a>\u001b[0m     \u001b[39mfor\u001b[39;00m i \u001b[39min\u001b[39;00m myDict:\n\u001b[0;32m      <a href='vscode-notebook-cell:Untitled-1.ipynb?jupyter-notebook#W1sdW50aXRsZWQ%3D?line=7'>8</a>\u001b[0m         myDict \u001b[39m=\u001b[39m {i:myDict\u001b[39m.\u001b[39mcount(i)}\n",
      "\u001b[1;31mUnboundLocalError\u001b[0m: cannot access local variable 'i' where it is not associated with a value"
     ]
    }
   ],
   "source": [
    "\"\"\"\n",
    "Create a function that accepts a string and returns and returns a dictionaru containing the word count of a specific word\n",
    "\"\"\"\n",
    "def countWords(myStr):\n",
    "    myDict =[]\n",
    "    words = myStr.split()  \n",
    "    \n",
    "    for i in words:\n",
    "    myDict[\"i\"] += 1\n",
    "    return words\n",
    "myStr=input(\"Enter a Sentence:\")\n",
    "wordCount = countWords(myStr)\n",
    "print(wordCount)\n",
    "\n",
    "\n",
    "\n"
   ]
  },
  {
   "cell_type": "code",
   "execution_count": 1,
   "metadata": {},
   "outputs": [
    {
     "name": "stdout",
     "output_type": "stream",
     "text": [
      "{'My': 1, 'ass': 1, 'is': 1, 'beutiful.': 1}\n"
     ]
    }
   ],
   "source": [
    "def countWords(myStr):\n",
    "    count = dict()\n",
    "    words = myStr.split()  \n",
    "    \n",
    "    for i in words:\n",
    "      if i in count:\n",
    "        count[i] += 1\n",
    "      else:\n",
    "        count[i] = 1\n",
    "        \n",
    "    return count\n",
    "myStr = input(\"Enter a Sentence:\")\n",
    "print(countWords(myStr))"
   ]
  },
  {
   "cell_type": "code",
   "execution_count": 35,
   "metadata": {},
   "outputs": [
    {
     "name": "stdout",
     "output_type": "stream",
     "text": [
      "5\n"
     ]
    }
   ],
   "source": [
    "x= \"dhjfsk hksafslkjf djkadfha cd ds\"\n",
    "print(x.count(\"d\"))"
   ]
  },
  {
   "cell_type": "code",
   "execution_count": 29,
   "metadata": {},
   "outputs": [
    {
     "name": "stdout",
     "output_type": "stream",
     "text": [
      "0\n"
     ]
    }
   ],
   "source": [
    "def countCharOccurance(myStr):\n",
    "    charList = []\n",
    "myStr=input(\"Enter a Sentence:\")\n",
    "charaCount = countCharOccurance(myStr)\n",
    "print(charaCount)"
   ]
  }
 ],
 "metadata": {
  "kernelspec": {
   "display_name": "Python 3",
   "language": "python",
   "name": "python3"
  },
  "language_info": {
   "codemirror_mode": {
    "name": "ipython",
    "version": 3
   },
   "file_extension": ".py",
   "mimetype": "text/x-python",
   "name": "python",
   "nbconvert_exporter": "python",
   "pygments_lexer": "ipython3",
   "version": "3.11.5"
  }
 },
 "nbformat": 4,
 "nbformat_minor": 2
}
